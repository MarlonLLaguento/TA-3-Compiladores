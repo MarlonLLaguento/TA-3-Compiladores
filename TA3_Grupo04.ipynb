{
  "nbformat": 4,
  "nbformat_minor": 0,
  "metadata": {
    "colab": {
      "provenance": []
    },
    "kernelspec": {
      "name": "python3",
      "display_name": "Python 3"
    },
    "language_info": {
      "name": "python"
    }
  },
  "cells": [
    {
      "cell_type": "code",
      "source": [
        "!pip install python-constraint"
      ],
      "metadata": {
        "colab": {
          "base_uri": "https://localhost:8080/"
        },
        "id": "6UDdjT1cO3W0",
        "outputId": "68c76984-2888-4578-ed16-ad9c9b0bae6b"
      },
      "execution_count": 37,
      "outputs": [
        {
          "output_type": "stream",
          "name": "stdout",
          "text": [
            "Requirement already satisfied: python-constraint in /usr/local/lib/python3.10/dist-packages (1.4.0)\n"
          ]
        }
      ]
    },
    {
      "cell_type": "markdown",
      "source": [
        "### Implementación de Itemsets Frecuentes\n",
        "\n",
        "utilizaremos técnicas de constraint programming para definir el problema y buscar soluciones que cumplan con las restricciones.\n",
        "\n",
        "\n",
        "\n"
      ],
      "metadata": {
        "id": "waRl82-17tMV"
      }
    },
    {
      "cell_type": "code",
      "source": [
        "from constraint import *\n",
        "\n",
        "transactions = [\n",
        "    ['milk', 'bread', 'beer'],\n",
        "    ['milk', 'bread'],\n",
        "    ['bread', 'beer'],\n",
        "    ['milk', 'beer'],\n",
        "    ['milk', 'bread', 'beer', 'eggs'],\n",
        "    ['bread', 'eggs'],\n",
        "    ['milk', 'eggs']\n",
        "]\n",
        "\n",
        "min_support = 0.3\n",
        "\n",
        "problem = Problem()\n",
        "\n",
        "items = sorted({item for transaction in transactions for item in transaction})\n",
        "\n",
        "for item in items:\n",
        "    problem.addVariable(item, [0, 1])\n",
        "\n",
        "def count_support(itemset, transactions):\n",
        "    return sum(1 for transaction in transactions if all(item in transaction for item in itemset))\n",
        "\n",
        "def min_support_constraint(*args):\n",
        "    itemset = [items[i] for i, v in enumerate(args) if v == 1]\n",
        "    return count_support(itemset, transactions) / len(transactions) >= min_support\n",
        "\n",
        "problem.addConstraint(min_support_constraint, items)\n",
        "\n",
        "solutions = problem.getSolutions()\n",
        "\n",
        "frequent_itemsets = [tuple(item for item, v in solution.items() if v == 1) for solution in solutions if any(v == 1 for v in solution.values())]\n",
        "\n",
        "print(\"Itemsets frecuentes:\", frequent_itemsets)"
      ],
      "metadata": {
        "colab": {
          "base_uri": "https://localhost:8080/"
        },
        "id": "c_JJIfNh6eeZ",
        "outputId": "7c51b6fc-4133-4acc-9baa-02c3e1300d77"
      },
      "execution_count": 38,
      "outputs": [
        {
          "output_type": "stream",
          "name": "stdout",
          "text": [
            "Itemsets frecuentes: [('beer', 'bread'), ('beer', 'milk'), ('beer',), ('bread', 'milk'), ('bread',), ('eggs',), ('milk',)]\n"
          ]
        }
      ]
    },
    {
      "cell_type": "markdown",
      "source": [
        "### Explicación de la implementación de Itemsets Frecuentes\n",
        "\n",
        "\n",
        "1. Definimos las transacciones: Una lista de listas, donde cada sublista representa una transacción.\n",
        "2. Definimos el soporte mínimo: Un valor que representa el porcentaje mínimo de transacciones en las que un itemset debe aparecer para ser considerado frecuente.\n",
        "3. Creamos un solver de constraint programming: Utilizamos la biblioteca python-constraint.\n",
        "4. Definimos las variables: Cada ítem puede estar o no en el itemset (valores 0 o 1).\n",
        "5. Agregamos restricciones: Contamos el soporte de cada itemset y verificamos si cumple con el soporte mínimo.\n",
        "6. Resolvemos el problema: Obtenemos todos los itemsets que cumplen con las restricciones y los mostramos."
      ],
      "metadata": {
        "id": "fuevfs788RUm"
      }
    },
    {
      "cell_type": "markdown",
      "source": [
        "### Implementación de Reglas de Asociación\n"
      ],
      "metadata": {
        "id": "579Pxc708hQQ"
      }
    },
    {
      "cell_type": "code",
      "source": [
        "from itertools import combinations\n",
        "\n",
        "min_confidence = 0.7\n",
        "\n",
        "def calculate_confidence(itemset, antecedent, transactions):\n",
        "    antecedent_support = count_support(antecedent, transactions)\n",
        "    if antecedent_support == 0:\n",
        "        return 0\n",
        "    itemset_support = count_support(itemset, transactions)\n",
        "    return itemset_support / antecedent_support\n",
        "\n",
        "association_rules = []\n",
        "for itemset in frequent_itemsets:\n",
        "    for i in range(1, len(itemset)):\n",
        "        for antecedent in combinations(itemset, i):\n",
        "            consequent = tuple(item for item in itemset if item not in antecedent)\n",
        "            if consequent:\n",
        "                confidence = calculate_confidence(itemset, antecedent, transactions)\n",
        "                if confidence >= min_confidence:\n",
        "                    association_rules.append((antecedent, consequent, confidence))\n",
        "\n",
        "print(\"Reglas de asociación:\")\n",
        "for rule in association_rules:\n",
        "    print(f\"{rule[0]} -> {rule[1]} (confianza: {rule[2]:.2f})\")\n"
      ],
      "metadata": {
        "colab": {
          "base_uri": "https://localhost:8080/"
        },
        "id": "_Soso-ui6zVx",
        "outputId": "14b11809-f591-465e-d99a-fb5f9f05d4af"
      },
      "execution_count": 39,
      "outputs": [
        {
          "output_type": "stream",
          "name": "stdout",
          "text": [
            "Reglas de asociación:\n",
            "('beer',) -> ('bread',) (confianza: 0.75)\n",
            "('beer',) -> ('milk',) (confianza: 0.75)\n"
          ]
        }
      ]
    },
    {
      "cell_type": "markdown",
      "source": [
        "### Explicación de la implementación de Reglas de Asociación\n",
        "\n",
        "1. Definimos la confianza mínima: Un valor que representa el porcentaje mínimo de veces que la presencia del antecedente implica la presencia del consecuente.\n",
        "2. Calculamos la confianza de las reglas: Para cada itemset frecuente, generamos todas las posibles reglas de asociación y calculamos su confianza.\n",
        "3. Filtramos las reglas: Solo guardamos las reglas que cumplen con la confianza mínima.\n",
        "4. Mostramos las reglas de asociación: Mostramos las reglas que cumplen con las restricciones."
      ],
      "metadata": {
        "id": "Gm5hs41y82yo"
      }
    },
    {
      "cell_type": "markdown",
      "source": [
        "### Implementar una Aplicación Sencilla\n"
      ],
      "metadata": {
        "id": "6yYlJeGE9Bqr"
      }
    },
    {
      "cell_type": "markdown",
      "source": [
        "Creamos una aplicación sencilla que permita al usuario ingresar transacciones, calcular itemsets frecuentes y generar reglas de asociación."
      ],
      "metadata": {
        "id": "6kGNBrQE9LyK"
      }
    },
    {
      "cell_type": "code",
      "source": [
        "from constraint import Problem\n",
        "from itertools import combinations\n",
        "\n",
        "def count_support(itemset, transactions):\n",
        "    return sum(1 for transaction in transactions if all(item in transaction for item in itemset))\n",
        "\n",
        "def calculate_confidence(itemset, antecedent, transactions):\n",
        "    antecedent_support = count_support(antecedent, transactions)\n",
        "    if antecedent_support == 0:\n",
        "        return 0\n",
        "    itemset_support = count_support(itemset, transactions)\n",
        "    return itemset_support / antecedent_support\n",
        "\n",
        "def main():\n",
        "    with open('transacciones.txt', 'r') as file:\n",
        "        transactions = [line.strip().split(',') for line in file.readlines() if line.strip()]\n",
        "\n",
        "    min_support = float(input(\"Ingrese el soporte mínimo (por ejemplo, 0.3 para 30%): \"))\n",
        "    min_confidence = float(input(\"Ingrese la confianza mínima (por ejemplo, 0.7 para 70%): \"))\n",
        "\n",
        "    problem = Problem()\n",
        "\n",
        "    items = sorted({item for transaction in transactions for item in transaction})\n",
        "\n",
        "    for item in items:\n",
        "        problem.addVariable(item, [0, 1])\n",
        "\n",
        "    def min_support_constraint(*args):\n",
        "        itemset = [items[i] for i, v in enumerate(args) if v == 1]\n",
        "        return count_support(itemset, transactions) / len(transactions) >= min_support\n",
        "\n",
        "    problem.addConstraint(min_support_constraint, items)\n",
        "\n",
        "    solutions = problem.getSolutions()\n",
        "\n",
        "    frequent_itemsets = [tuple(item for item, v in solution.items() if v == 1) for solution in solutions if any(v == 1 for v in solution.values())]\n",
        "\n",
        "    print(\"Itemsets frecuentes:\", frequent_itemsets)\n",
        "\n",
        "    association_rules = []\n",
        "    for itemset in frequent_itemsets:\n",
        "        for i in range(1, len(itemset)):\n",
        "            for antecedent in combinations(itemset, i):\n",
        "                consequent = tuple(item for item in itemset if item not in antecedent)\n",
        "                if consequent:\n",
        "                    confidence = calculate_confidence(itemset, antecedent, transactions)\n",
        "                    if confidence >= min_confidence:\n",
        "                        association_rules.append((antecedent, consequent, confidence))\n",
        "\n",
        "    print(\"Reglas de asociación:\")\n",
        "    for rule in association_rules:\n",
        "        print(f\"{rule[0]} -> {rule[1]} (confianza: {rule[2]:.2f})\")\n",
        "\n",
        "if __name__ == \"__main__\":\n",
        "    main()\n"
      ],
      "metadata": {
        "colab": {
          "base_uri": "https://localhost:8080/"
        },
        "id": "NBxRkPRw615C",
        "outputId": "fee2aee3-7531-4a51-eea3-806a4e5f50db"
      },
      "execution_count": 41,
      "outputs": [
        {
          "output_type": "stream",
          "name": "stdout",
          "text": [
            "Ingrese el soporte mínimo (por ejemplo, 0.3 para 30%): 0.3\n",
            "Ingrese la confianza mínima (por ejemplo, 0.7 para 70%): 0.7\n",
            "Itemsets frecuentes: [('beer', 'bread'), ('beer', 'milk'), ('beer',), ('bread', 'milk'), ('bread',), ('eggs',), ('milk',)]\n",
            "Reglas de asociación:\n",
            "('beer',) -> ('bread',) (confianza: 0.75)\n",
            "('beer',) -> ('milk',) (confianza: 0.75)\n"
          ]
        }
      ]
    },
    {
      "cell_type": "markdown",
      "source": [
        "### Explicación del Proceso y Algoritmos Utilizados\n",
        "\n",
        "1. Ingreso de Transacciones: Se permite al usuario ingresar transacciones de manera interactiva.\n",
        "2. Cálculo de Itemsets Frecuentes: Usamos técnicas de constraint programming para encontrar todos los conjuntos de ítems que cumplen con el soporte mínimo.\n",
        "3. Generación de Reglas de Asociación: A partir de los itemsets frecuentes, generamos todas las posibles reglas de asociación y filtramos aquellas que cumplen con la confianza mínima.\n",
        "4. Interfaz Interactiva: La aplicación permite al usuario especificar el soporte y la confianza mínimos y muestra los resultados de itemsets frecuentes y reglas de asociación."
      ],
      "metadata": {
        "id": "dUQZJRxz9Vxh"
      }
    }
  ]
}